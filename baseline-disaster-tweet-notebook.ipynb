{
 "cells": [
  {
   "cell_type": "code",
   "execution_count": 1,
   "id": "f5b8f0bd",
   "metadata": {
    "_cell_guid": "b1076dfc-b9ad-4769-8c92-a6c4dae69d19",
    "_uuid": "8f2839f25d086af736a60e9eeb907d3b93b6e0e5",
    "execution": {
     "iopub.execute_input": "2022-07-07T03:11:06.564138Z",
     "iopub.status.busy": "2022-07-07T03:11:06.563183Z",
     "iopub.status.idle": "2022-07-07T03:11:06.583067Z",
     "shell.execute_reply": "2022-07-07T03:11:06.581823Z"
    },
    "papermill": {
     "duration": 0.029784,
     "end_time": "2022-07-07T03:11:06.586006",
     "exception": false,
     "start_time": "2022-07-07T03:11:06.556222",
     "status": "completed"
    },
    "tags": []
   },
   "outputs": [
    {
     "name": "stdout",
     "output_type": "stream",
     "text": [
      "/kaggle/input/nlp-getting-started/sample_submission.csv\n",
      "/kaggle/input/nlp-getting-started/train.csv\n",
      "/kaggle/input/nlp-getting-started/test.csv\n"
     ]
    }
   ],
   "source": [
    "# This Python 3 environment comes with many helpful analytics libraries installed\n",
    "# It is defined by the kaggle/python Docker image: https://github.com/kaggle/docker-python\n",
    "# For example, here's several helpful packages to load\n",
    "\n",
    "import numpy as np # linear algebra\n",
    "import pandas as pd # data processing, CSV file I/O (e.g. pd.read_csv)\n",
    "\n",
    "# Input data files are available in the read-only \"../input/\" directory\n",
    "# For example, running this (by clicking run or pressing Shift+Enter) will list all files under the input directory\n",
    "\n",
    "import os\n",
    "for dirname, _, filenames in os.walk('/kaggle/input'):\n",
    "    for filename in filenames:\n",
    "        print(os.path.join(dirname, filename))\n",
    "\n",
    "# You can write up to 20GB to the current directory (/kaggle/working/) that gets preserved as output when you create a version using \"Save & Run All\" \n",
    "# You can also write temporary files to /kaggle/temp/, but they won't be saved outside of the current session"
   ]
  },
  {
   "cell_type": "code",
   "execution_count": 2,
   "id": "7942af76",
   "metadata": {
    "execution": {
     "iopub.execute_input": "2022-07-07T03:11:06.597229Z",
     "iopub.status.busy": "2022-07-07T03:11:06.595221Z",
     "iopub.status.idle": "2022-07-07T03:11:17.446505Z",
     "shell.execute_reply": "2022-07-07T03:11:17.445120Z"
    },
    "papermill": {
     "duration": 10.85916,
     "end_time": "2022-07-07T03:11:17.449251",
     "exception": false,
     "start_time": "2022-07-07T03:11:06.590091",
     "status": "completed"
    },
    "tags": []
   },
   "outputs": [],
   "source": [
    "# Libraries\n",
    "from tensorflow.keras.preprocessing.text import Tokenizer\n",
    "from tensorflow.keras.preprocessing.sequence import pad_sequences\n",
    "import tensorflow as tf\n",
    "import csv\n",
    "import numpy as np\n",
    "import random\n",
    "import matplotlib.pyplot as plt"
   ]
  },
  {
   "cell_type": "code",
   "execution_count": 3,
   "id": "f7951481",
   "metadata": {
    "execution": {
     "iopub.execute_input": "2022-07-07T03:11:17.459466Z",
     "iopub.status.busy": "2022-07-07T03:11:17.458756Z",
     "iopub.status.idle": "2022-07-07T03:11:17.730438Z",
     "shell.execute_reply": "2022-07-07T03:11:17.729598Z"
    },
    "papermill": {
     "duration": 0.279527,
     "end_time": "2022-07-07T03:11:17.733088",
     "exception": false,
     "start_time": "2022-07-07T03:11:17.453561",
     "status": "completed"
    },
    "tags": []
   },
   "outputs": [
    {
     "name": "stdout",
     "output_type": "stream",
     "text": [
      "Train tweets example:  ['Ignition Knock (Detonation) Sensor-Senso Standard fits 02-06 Acura RSX 2.0L-L4 http://t.co/VZaIQAMDCp http://t.co/ycecN44c8P', '#KAMINDOZ #reuters Debris confirmed from MH370; relatives hope for discovery of crash s... http://t.co/xrdwR8CDvM http://t.co/fxtfFL4aXy', 'There are people who plotted against me that are still wondering how I survived', '@crobscarla your lifetime odds of dying from an airplane accident are 1 in 8015.', 'This sale and demolition trend near Metrotown is sure resulting in some poorly maintained apartments. #burnaby #changefortheworse']\n",
      "******************************\n",
      "Train labels examples:  ['0', '1', '0', '0', '0']\n",
      "------------------------------\n",
      "Test tweets example:  ['Just happened a terrible car crash', 'Heard about #earthquake is different cities, stay safe everyone.', 'there is a forest fire at spot pond, geese are fleeing across the street, I cannot save them all', 'Apocalypse lighting. #Spokane #wildfires', 'Typhoon Soudelor kills 28 in China and Taiwan']\n"
     ]
    }
   ],
   "source": [
    "# Open CSV files.\n",
    "\n",
    "full_tweets_labels = []\n",
    "train_tweets = []\n",
    "train_labels = []\n",
    "test_tweets = []\n",
    "\n",
    "with open('/kaggle/input/nlp-getting-started/train.csv', newline='') as csvfile:\n",
    "    reader = csv.reader(csvfile, delimiter=',')\n",
    "    next(reader)\n",
    "    for row in reader:\n",
    "        #print(row)\n",
    "        full_tweets_labels.append(row[-2:])\n",
    "        #train_tweets.append(row[-2])\n",
    "        #train_labels.append(row[-1])\n",
    "        \n",
    "random.seed(1)\n",
    "random.shuffle(full_tweets_labels)\n",
    "\n",
    "for row in full_tweets_labels:\n",
    "    train_tweets.append(row[0])\n",
    "    train_labels.append(row[1])\n",
    "        \n",
    "with open('/kaggle/input/nlp-getting-started/test.csv', newline='') as csvfile:\n",
    "    reader = csv.reader(csvfile, delimiter=',')\n",
    "    next(reader)\n",
    "    for row in reader:\n",
    "        #print(row)\n",
    "        test_tweets.append(row[-1])\n",
    "        \n",
    "\n",
    "print('Train tweets example: ', train_tweets[:5])\n",
    "print('*'*30)\n",
    "print('Train labels examples: ', train_labels[:5])\n",
    "print('-'*30)\n",
    "print('Test tweets example: ', test_tweets[:5])\n",
    "\n"
   ]
  },
  {
   "cell_type": "code",
   "execution_count": 4,
   "id": "5db4da00",
   "metadata": {
    "execution": {
     "iopub.execute_input": "2022-07-07T03:11:17.743049Z",
     "iopub.status.busy": "2022-07-07T03:11:17.742194Z",
     "iopub.status.idle": "2022-07-07T03:11:17.748168Z",
     "shell.execute_reply": "2022-07-07T03:11:17.747048Z"
    },
    "papermill": {
     "duration": 0.013663,
     "end_time": "2022-07-07T03:11:17.750716",
     "exception": false,
     "start_time": "2022-07-07T03:11:17.737053",
     "status": "completed"
    },
    "tags": []
   },
   "outputs": [],
   "source": [
    "# Train-Val split.\n",
    "\n",
    "grenze = int(len(train_tweets)*0.9)\n",
    "\n",
    "val_tweets = train_tweets[grenze:]\n",
    "val_labels = train_labels[grenze:]\n",
    "\n",
    "train_tweets = train_tweets[:grenze]\n",
    "train_labels = train_labels[:grenze]\n"
   ]
  },
  {
   "cell_type": "code",
   "execution_count": 5,
   "id": "98623cf9",
   "metadata": {
    "execution": {
     "iopub.execute_input": "2022-07-07T03:11:17.760345Z",
     "iopub.status.busy": "2022-07-07T03:11:17.759943Z",
     "iopub.status.idle": "2022-07-07T03:11:18.189045Z",
     "shell.execute_reply": "2022-07-07T03:11:18.182615Z"
    },
    "papermill": {
     "duration": 0.438421,
     "end_time": "2022-07-07T03:11:18.193145",
     "exception": false,
     "start_time": "2022-07-07T03:11:17.754724",
     "status": "completed"
    },
    "tags": []
   },
   "outputs": [
    {
     "name": "stdout",
     "output_type": "stream",
     "text": [
      "**************************************************\n",
      "**************************************************\n",
      "[[ 904  870  558 ...    0    0    0]\n",
      " [6476  725  266 ...    0    0    0]\n",
      " [  78   24   59 ...    0    0    0]\n",
      " ...\n",
      " [2305    8 3110 ...    0    0    0]\n",
      " [   1    1 5710 ...    0    0    0]\n",
      " [ 694  195    9 ...    0    0    0]]\n"
     ]
    }
   ],
   "source": [
    "# Tokenization process.\n",
    "num_words = 10000  # I forgot tweets can have variable lengths, despite having a very limited character count.\n",
    "oov_token = '<OOV>'\n",
    "padding = 'post'\n",
    "\n",
    "\n",
    "tokenizer = Tokenizer(\n",
    "    num_words=num_words,\n",
    "    oov_token=oov_token\n",
    ")\n",
    "tokenizer.fit_on_texts(train_tweets)\n",
    "word_index = tokenizer.word_index\n",
    "train_sequences = tokenizer.texts_to_sequences(train_tweets)\n",
    "train_padded = pad_sequences(\n",
    "    train_sequences,\n",
    "    padding=padding  # No maximum padding length here, because I just want to see what length it provides.\n",
    ")\n",
    "\n",
    "val_sequences = tokenizer.texts_to_sequences(val_tweets)\n",
    "val_padded = pad_sequences(\n",
    "    val_sequences,\n",
    "    padding=padding,\n",
    "    maxlen=len(train_padded[0])  #Adjust the validation padding length to that of the training padded length.\n",
    ")\n",
    "\n",
    "#print(word_index)\n",
    "print('*'*50)\n",
    "#print(sequences)\n",
    "print('*'*50)\n",
    "print(train_padded)"
   ]
  },
  {
   "cell_type": "code",
   "execution_count": 6,
   "id": "8f69f1df",
   "metadata": {
    "execution": {
     "iopub.execute_input": "2022-07-07T03:11:18.220465Z",
     "iopub.status.busy": "2022-07-07T03:11:18.219759Z",
     "iopub.status.idle": "2022-07-07T03:11:18.229293Z",
     "shell.execute_reply": "2022-07-07T03:11:18.228025Z"
    },
    "papermill": {
     "duration": 0.019451,
     "end_time": "2022-07-07T03:11:18.232265",
     "exception": false,
     "start_time": "2022-07-07T03:11:18.212814",
     "status": "completed"
    },
    "tags": []
   },
   "outputs": [
    {
     "data": {
      "text/plain": [
       "True"
      ]
     },
     "execution_count": 6,
     "metadata": {},
     "output_type": "execute_result"
    }
   ],
   "source": [
    "# Verify whether the validation pading length is equal to that of the training padding length.\n",
    "\n",
    "len(val_padded[0]) == len(train_padded[0])"
   ]
  },
  {
   "cell_type": "code",
   "execution_count": 7,
   "id": "0a28444a",
   "metadata": {
    "execution": {
     "iopub.execute_input": "2022-07-07T03:11:18.243415Z",
     "iopub.status.busy": "2022-07-07T03:11:18.242246Z",
     "iopub.status.idle": "2022-07-07T03:11:19.408348Z",
     "shell.execute_reply": "2022-07-07T03:11:19.406828Z"
    },
    "papermill": {
     "duration": 1.17539,
     "end_time": "2022-07-07T03:11:19.411910",
     "exception": false,
     "start_time": "2022-07-07T03:11:18.236520",
     "status": "completed"
    },
    "tags": []
   },
   "outputs": [
    {
     "name": "stderr",
     "output_type": "stream",
     "text": [
      "2022-07-07 03:11:18.307045: I tensorflow/core/common_runtime/process_util.cc:146] Creating new thread pool with default inter op setting: 2. Tune using inter_op_parallelism_threads for best performance.\n"
     ]
    },
    {
     "name": "stdout",
     "output_type": "stream",
     "text": [
      "Model: \"sequential\"\n",
      "_________________________________________________________________\n",
      "Layer (type)                 Output Shape              Param #   \n",
      "=================================================================\n",
      "embedding (Embedding)        (None, 33, 32)            320000    \n",
      "_________________________________________________________________\n",
      "bidirectional (Bidirectional (None, 33, 64)            16640     \n",
      "_________________________________________________________________\n",
      "bidirectional_1 (Bidirection (None, 64)                24832     \n",
      "_________________________________________________________________\n",
      "dense (Dense)                (None, 50)                3250      \n",
      "_________________________________________________________________\n",
      "dropout (Dropout)            (None, 50)                0         \n",
      "_________________________________________________________________\n",
      "dense_1 (Dense)              (None, 25)                1275      \n",
      "_________________________________________________________________\n",
      "dropout_1 (Dropout)          (None, 25)                0         \n",
      "_________________________________________________________________\n",
      "dense_2 (Dense)              (None, 1)                 26        \n",
      "=================================================================\n",
      "Total params: 366,023\n",
      "Trainable params: 366,023\n",
      "Non-trainable params: 0\n",
      "_________________________________________________________________\n"
     ]
    }
   ],
   "source": [
    "# Baseline model construction.\n",
    "\n",
    "embedding_dim = 32\n",
    "max_length = len(train_padded[0])\n",
    "\n",
    "model = tf.keras.Sequential([\n",
    "    tf.keras.layers.Embedding(\n",
    "        num_words,\n",
    "        embedding_dim,\n",
    "        input_length=max_length\n",
    "    ),\n",
    "    tf.keras.layers.Bidirectional(tf.keras.layers.LSTM(32, return_sequences=True)),\n",
    "    tf.keras.layers.Bidirectional(tf.keras.layers.LSTM(32)),\n",
    "    tf.keras.layers.Dense(50, activation='relu', kernel_regularizer='l2'),\n",
    "    tf.keras.layers.Dropout(0.3),\n",
    "    tf.keras.layers.Dense(25, activation='relu', kernel_regularizer='l2'),\n",
    "    tf.keras.layers.Dropout(0.3),\n",
    "    tf.keras.layers.Dense(1, activation='sigmoid')\n",
    "])\n",
    "\n",
    "model.summary()"
   ]
  },
  {
   "cell_type": "code",
   "execution_count": 8,
   "id": "f0834277",
   "metadata": {
    "execution": {
     "iopub.execute_input": "2022-07-07T03:11:19.423258Z",
     "iopub.status.busy": "2022-07-07T03:11:19.422353Z",
     "iopub.status.idle": "2022-07-07T03:16:43.304515Z",
     "shell.execute_reply": "2022-07-07T03:16:43.302760Z"
    },
    "papermill": {
     "duration": 323.891134,
     "end_time": "2022-07-07T03:16:43.307846",
     "exception": false,
     "start_time": "2022-07-07T03:11:19.416712",
     "status": "completed"
    },
    "tags": []
   },
   "outputs": [
    {
     "name": "stdout",
     "output_type": "stream",
     "text": [
      "Epoch 1/20\n"
     ]
    },
    {
     "name": "stderr",
     "output_type": "stream",
     "text": [
      "2022-07-07 03:11:19.502829: I tensorflow/compiler/mlir/mlir_graph_optimization_pass.cc:185] None of the MLIR Optimization Passes are enabled (registered 2)\n"
     ]
    },
    {
     "name": "stdout",
     "output_type": "stream",
     "text": [
      "215/215 [==============================] - 26s 84ms/step - loss: 0.9138 - accuracy: 0.6726 - val_loss: 0.5635 - val_accuracy: 0.7769\n",
      "Epoch 2/20\n",
      "215/215 [==============================] - 15s 70ms/step - loss: 0.4316 - accuracy: 0.8444 - val_loss: 0.4921 - val_accuracy: 0.7743\n",
      "Epoch 3/20\n",
      "215/215 [==============================] - 16s 75ms/step - loss: 0.3070 - accuracy: 0.8990 - val_loss: 0.5517 - val_accuracy: 0.7756\n",
      "Epoch 4/20\n",
      "215/215 [==============================] - 15s 71ms/step - loss: 0.2547 - accuracy: 0.9231 - val_loss: 0.5409 - val_accuracy: 0.7559\n",
      "Epoch 5/20\n",
      "215/215 [==============================] - 16s 75ms/step - loss: 0.2087 - accuracy: 0.9412 - val_loss: 0.7085 - val_accuracy: 0.7480\n",
      "Epoch 6/20\n",
      "215/215 [==============================] - 15s 72ms/step - loss: 0.1686 - accuracy: 0.9534 - val_loss: 0.6805 - val_accuracy: 0.7625\n",
      "Epoch 7/20\n",
      "215/215 [==============================] - 16s 75ms/step - loss: 0.1459 - accuracy: 0.9603 - val_loss: 0.7586 - val_accuracy: 0.7730\n",
      "Epoch 8/20\n",
      "215/215 [==============================] - 16s 73ms/step - loss: 0.1286 - accuracy: 0.9645 - val_loss: 0.8582 - val_accuracy: 0.7507\n",
      "Epoch 9/20\n",
      "215/215 [==============================] - 16s 76ms/step - loss: 0.1182 - accuracy: 0.9683 - val_loss: 1.0253 - val_accuracy: 0.7520\n",
      "Epoch 10/20\n",
      "215/215 [==============================] - 16s 72ms/step - loss: 0.1075 - accuracy: 0.9701 - val_loss: 0.8114 - val_accuracy: 0.7520\n",
      "Epoch 11/20\n",
      "215/215 [==============================] - 16s 75ms/step - loss: 0.1108 - accuracy: 0.9698 - val_loss: 1.0463 - val_accuracy: 0.7493\n",
      "Epoch 12/20\n",
      "215/215 [==============================] - 15s 69ms/step - loss: 0.0921 - accuracy: 0.9750 - val_loss: 1.0811 - val_accuracy: 0.7507\n",
      "Epoch 13/20\n",
      "215/215 [==============================] - 16s 73ms/step - loss: 0.0898 - accuracy: 0.9737 - val_loss: 1.1261 - val_accuracy: 0.7507\n",
      "Epoch 14/20\n",
      "215/215 [==============================] - 15s 71ms/step - loss: 0.0807 - accuracy: 0.9758 - val_loss: 1.0295 - val_accuracy: 0.7598\n",
      "Epoch 15/20\n",
      "215/215 [==============================] - 16s 74ms/step - loss: 0.0749 - accuracy: 0.9772 - val_loss: 1.1940 - val_accuracy: 0.7520\n",
      "Epoch 16/20\n",
      "215/215 [==============================] - 15s 70ms/step - loss: 0.0749 - accuracy: 0.9780 - val_loss: 1.2333 - val_accuracy: 0.7441\n",
      "Epoch 17/20\n",
      "215/215 [==============================] - 16s 75ms/step - loss: 0.0681 - accuracy: 0.9800 - val_loss: 1.2015 - val_accuracy: 0.7507\n",
      "Epoch 18/20\n",
      "215/215 [==============================] - 15s 72ms/step - loss: 0.0686 - accuracy: 0.9791 - val_loss: 1.3038 - val_accuracy: 0.7152\n",
      "Epoch 19/20\n",
      "215/215 [==============================] - 16s 76ms/step - loss: 0.0775 - accuracy: 0.9762 - val_loss: 1.2741 - val_accuracy: 0.7428\n",
      "Epoch 20/20\n",
      "215/215 [==============================] - 15s 70ms/step - loss: 0.0718 - accuracy: 0.9765 - val_loss: 1.2438 - val_accuracy: 0.7520\n"
     ]
    }
   ],
   "source": [
    "# Model compilation.\n",
    "\n",
    "train_padded_np = np.asarray(train_padded)  # No Normalization here... these are word indexes. No float upcasting as well.\n",
    "train_labels_np = np.asarray(train_labels).astype('float64')  # Float upcasting.\n",
    "\n",
    "val_padded_np = np.asarray(val_padded)\n",
    "val_labels_np = np.asarray(val_labels).astype('float64')\n",
    "\n",
    "model.compile(\n",
    "    loss='binary_crossentropy',\n",
    "    optimizer='adam',\n",
    "    metrics=['accuracy']\n",
    ")\n",
    "\n",
    "history = model.fit(train_padded_np, train_labels_np, epochs=20, validation_data=(val_padded_np, val_labels_np))"
   ]
  },
  {
   "cell_type": "code",
   "execution_count": 9,
   "id": "0995ddb7",
   "metadata": {
    "execution": {
     "iopub.execute_input": "2022-07-07T03:16:43.932178Z",
     "iopub.status.busy": "2022-07-07T03:16:43.931091Z",
     "iopub.status.idle": "2022-07-07T03:16:44.399900Z",
     "shell.execute_reply": "2022-07-07T03:16:44.398671Z"
    },
    "papermill": {
     "duration": 0.783078,
     "end_time": "2022-07-07T03:16:44.402397",
     "exception": false,
     "start_time": "2022-07-07T03:16:43.619319",
     "status": "completed"
    },
    "tags": []
   },
   "outputs": [
    {
     "data": {
      "image/png": "[encoded data removed]",
      "text/plain": [
       "<Figure size 432x288 with 1 Axes>"
      ]
     },
     "metadata": {
      "needs_background": "light"
     },
     "output_type": "display_data"
    },
    {
     "data": {
      "image/png": "[encoded data removed]",
      "text/plain": [
       "<Figure size 432x288 with 1 Axes>"
      ]
     },
     "metadata": {
      "needs_background": "light"
     },
     "output_type": "display_data"
    }
   ],
   "source": [
    "# Graphing the model history.\n",
    "\n",
    "def plot_graphs(history, string):\n",
    "    plt.plot(history.history[string])\n",
    "    plt.plot(history.history['val_'+string])\n",
    "    plt.xlabel(\"Epochs\")\n",
    "    plt.ylabel(string)\n",
    "    plt.legend([string, 'val_'+string])\n",
    "    plt.show()\n",
    "\n",
    "plot_graphs(history, \"accuracy\")\n",
    "plot_graphs(history, \"loss\")"
   ]
  },
  {
   "cell_type": "code",
   "execution_count": null,
   "id": "748b7ebc",
   "metadata": {
    "papermill": {
     "duration": 0.310893,
     "end_time": "2022-07-07T03:16:45.029309",
     "exception": false,
     "start_time": "2022-07-07T03:16:44.718416",
     "status": "completed"
    },
    "tags": []
   },
   "outputs": [],
   "source": []
  }
 ],
 "metadata": {
  "kernelspec": {
   "display_name": "Python 3",
   "language": "python",
   "name": "python3"
  },
  "language_info": {
   "codemirror_mode": {
    "name": "ipython",
    "version": 3
   },
   "file_extension": ".py",
   "mimetype": "text/x-python",
   "name": "python",
   "nbconvert_exporter": "python",
   "pygments_lexer": "ipython3",
   "version": "3.7.12"
  },
  "papermill": {
   "default_parameters": {},
   "duration": 353.6156,
   "end_time": "2022-07-07T03:16:48.527057",
   "environment_variables": {},
   "exception": null,
   "input_path": "__notebook__.ipynb",
   "output_path": "__notebook__.ipynb",
   "parameters": {},
   "start_time": "2022-07-07T03:10:54.911457",
   "version": "2.3.4"
  }
 },
 "nbformat": 4,
 "nbformat_minor": 5
}
