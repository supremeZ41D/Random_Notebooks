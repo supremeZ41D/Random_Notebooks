{
 "cells": [
  {
   "cell_type": "code",
   "execution_count": 1,
   "id": "9aeb7f4b",
   "metadata": {
    "_cell_guid": "b1076dfc-b9ad-4769-8c92-a6c4dae69d19",
    "_uuid": "8f2839f25d086af736a60e9eeb907d3b93b6e0e5",
    "execution": {
     "iopub.execute_input": "2022-05-02T19:54:18.235952Z",
     "iopub.status.busy": "2022-05-02T19:54:18.235574Z",
     "iopub.status.idle": "2022-05-02T19:54:18.249556Z",
     "shell.execute_reply": "2022-05-02T19:54:18.248761Z"
    },
    "papermill": {
     "duration": 0.040409,
     "end_time": "2022-05-02T19:54:18.252160",
     "exception": false,
     "start_time": "2022-05-02T19:54:18.211751",
     "status": "completed"
    },
    "tags": []
   },
   "outputs": [
    {
     "name": "stdout",
     "output_type": "stream",
     "text": [
      "/kaggle/input/digit-recognizer/sample_submission.csv\n",
      "/kaggle/input/digit-recognizer/train.csv\n",
      "/kaggle/input/digit-recognizer/test.csv\n"
     ]
    }
   ],
   "source": [
    "# This Python 3 environment comes with many helpful analytics libraries installed\n",
    "# It is defined by the kaggle/python Docker image: https://github.com/kaggle/docker-python\n",
    "# For example, here's several helpful packages to load\n",
    "\n",
    "import numpy as np # linear algebra\n",
    "import pandas as pd # data processing, CSV file I/O (e.g. pd.read_csv)\n",
    "\n",
    "# Input data files are available in the read-only \"../input/\" directory\n",
    "# For example, running this (by clicking run or pressing Shift+Enter) will list all files under the input directory\n",
    "\n",
    "import os\n",
    "for dirname, _, filenames in os.walk('/kaggle/input'):\n",
    "    for filename in filenames:\n",
    "        print(os.path.join(dirname, filename))\n",
    "\n",
    "# You can write up to 20GB to the current directory (/kaggle/working/) that gets preserved as output when you create a version using \"Save & Run All\" \n",
    "# You can also write temporary files to /kaggle/temp/, but they won't be saved outside of the current session"
   ]
  },
  {
   "cell_type": "code",
   "execution_count": 2,
   "id": "d58fcfc1",
   "metadata": {
    "execution": {
     "iopub.execute_input": "2022-05-02T19:54:18.297559Z",
     "iopub.status.busy": "2022-05-02T19:54:18.297352Z",
     "iopub.status.idle": "2022-05-02T19:54:23.825313Z",
     "shell.execute_reply": "2022-05-02T19:54:23.824598Z"
    },
    "papermill": {
     "duration": 5.552186,
     "end_time": "2022-05-02T19:54:23.827426",
     "exception": false,
     "start_time": "2022-05-02T19:54:18.275240",
     "status": "completed"
    },
    "tags": []
   },
   "outputs": [],
   "source": [
    "from tensorflow.keras import layers, models\n",
    "from tensorflow.keras.utils import to_categorical\n",
    "from tensorflow.keras import regularizers\n",
    "%matplotlib inline\n",
    "import matplotlib.pyplot as plt"
   ]
  },
  {
   "cell_type": "code",
   "execution_count": 3,
   "id": "0ab61ea4",
   "metadata": {
    "execution": {
     "iopub.execute_input": "2022-05-02T19:54:23.871995Z",
     "iopub.status.busy": "2022-05-02T19:54:23.871774Z",
     "iopub.status.idle": "2022-05-02T19:54:28.734290Z",
     "shell.execute_reply": "2022-05-02T19:54:28.733533Z"
    },
    "papermill": {
     "duration": 4.886916,
     "end_time": "2022-05-02T19:54:28.736616",
     "exception": false,
     "start_time": "2022-05-02T19:54:23.849700",
     "status": "completed"
    },
    "tags": []
   },
   "outputs": [],
   "source": [
    "# Der Download der Daten.\n",
    "\n",
    "train_img = pd.read_csv('../input/digit-recognizer/train.csv')\n",
    "test_img = pd.read_csv('../input/digit-recognizer/test.csv')"
   ]
  },
  {
   "cell_type": "code",
   "execution_count": 4,
   "id": "8ae8dfb3",
   "metadata": {
    "execution": {
     "iopub.execute_input": "2022-05-02T19:54:28.781703Z",
     "iopub.status.busy": "2022-05-02T19:54:28.781492Z",
     "iopub.status.idle": "2022-05-02T19:54:28.802989Z",
     "shell.execute_reply": "2022-05-02T19:54:28.802229Z"
    },
    "papermill": {
     "duration": 0.046862,
     "end_time": "2022-05-02T19:54:28.805429",
     "exception": false,
     "start_time": "2022-05-02T19:54:28.758567",
     "status": "completed"
    },
    "tags": []
   },
   "outputs": [
    {
     "data": {
      "text/html": [
       "<div>\n",
       "<style scoped>\n",
       "    .dataframe tbody tr th:only-of-type {\n",
       "        vertical-align: middle;\n",
       "    }\n",
       "\n",
       "    .dataframe tbody tr th {\n",
       "        vertical-align: top;\n",
       "    }\n",
       "\n",
       "    .dataframe thead th {\n",
       "        text-align: right;\n",
       "    }\n",
       "</style>\n",
       "<table border=\"1\" class=\"dataframe\">\n",
       "  <thead>\n",
       "    <tr style=\"text-align: right;\">\n",
       "      <th></th>\n",
       "      <th>label</th>\n",
       "      <th>pixel0</th>\n",
       "      <th>pixel1</th>\n",
       "      <th>pixel2</th>\n",
       "      <th>pixel3</th>\n",
       "      <th>pixel4</th>\n",
       "      <th>pixel5</th>\n",
       "      <th>pixel6</th>\n",
       "      <th>pixel7</th>\n",
       "      <th>pixel8</th>\n",
       "      <th>...</th>\n",
       "      <th>pixel774</th>\n",
       "      <th>pixel775</th>\n",
       "      <th>pixel776</th>\n",
       "      <th>pixel777</th>\n",
       "      <th>pixel778</th>\n",
       "      <th>pixel779</th>\n",
       "      <th>pixel780</th>\n",
       "      <th>pixel781</th>\n",
       "      <th>pixel782</th>\n",
       "      <th>pixel783</th>\n",
       "    </tr>\n",
       "  </thead>\n",
       "  <tbody>\n",
       "    <tr>\n",
       "      <th>0</th>\n",
       "      <td>1</td>\n",
       "      <td>0</td>\n",
       "      <td>0</td>\n",
       "      <td>0</td>\n",
       "      <td>0</td>\n",
       "      <td>0</td>\n",
       "      <td>0</td>\n",
       "      <td>0</td>\n",
       "      <td>0</td>\n",
       "      <td>0</td>\n",
       "      <td>...</td>\n",
       "      <td>0</td>\n",
       "      <td>0</td>\n",
       "      <td>0</td>\n",
       "      <td>0</td>\n",
       "      <td>0</td>\n",
       "      <td>0</td>\n",
       "      <td>0</td>\n",
       "      <td>0</td>\n",
       "      <td>0</td>\n",
       "      <td>0</td>\n",
       "    </tr>\n",
       "    <tr>\n",
       "      <th>1</th>\n",
       "      <td>0</td>\n",
       "      <td>0</td>\n",
       "      <td>0</td>\n",
       "      <td>0</td>\n",
       "      <td>0</td>\n",
       "      <td>0</td>\n",
       "      <td>0</td>\n",
       "      <td>0</td>\n",
       "      <td>0</td>\n",
       "      <td>0</td>\n",
       "      <td>...</td>\n",
       "      <td>0</td>\n",
       "      <td>0</td>\n",
       "      <td>0</td>\n",
       "      <td>0</td>\n",
       "      <td>0</td>\n",
       "      <td>0</td>\n",
       "      <td>0</td>\n",
       "      <td>0</td>\n",
       "      <td>0</td>\n",
       "      <td>0</td>\n",
       "    </tr>\n",
       "    <tr>\n",
       "      <th>2</th>\n",
       "      <td>1</td>\n",
       "      <td>0</td>\n",
       "      <td>0</td>\n",
       "      <td>0</td>\n",
       "      <td>0</td>\n",
       "      <td>0</td>\n",
       "      <td>0</td>\n",
       "      <td>0</td>\n",
       "      <td>0</td>\n",
       "      <td>0</td>\n",
       "      <td>...</td>\n",
       "      <td>0</td>\n",
       "      <td>0</td>\n",
       "      <td>0</td>\n",
       "      <td>0</td>\n",
       "      <td>0</td>\n",
       "      <td>0</td>\n",
       "      <td>0</td>\n",
       "      <td>0</td>\n",
       "      <td>0</td>\n",
       "      <td>0</td>\n",
       "    </tr>\n",
       "    <tr>\n",
       "      <th>3</th>\n",
       "      <td>4</td>\n",
       "      <td>0</td>\n",
       "      <td>0</td>\n",
       "      <td>0</td>\n",
       "      <td>0</td>\n",
       "      <td>0</td>\n",
       "      <td>0</td>\n",
       "      <td>0</td>\n",
       "      <td>0</td>\n",
       "      <td>0</td>\n",
       "      <td>...</td>\n",
       "      <td>0</td>\n",
       "      <td>0</td>\n",
       "      <td>0</td>\n",
       "      <td>0</td>\n",
       "      <td>0</td>\n",
       "      <td>0</td>\n",
       "      <td>0</td>\n",
       "      <td>0</td>\n",
       "      <td>0</td>\n",
       "      <td>0</td>\n",
       "    </tr>\n",
       "    <tr>\n",
       "      <th>4</th>\n",
       "      <td>0</td>\n",
       "      <td>0</td>\n",
       "      <td>0</td>\n",
       "      <td>0</td>\n",
       "      <td>0</td>\n",
       "      <td>0</td>\n",
       "      <td>0</td>\n",
       "      <td>0</td>\n",
       "      <td>0</td>\n",
       "      <td>0</td>\n",
       "      <td>...</td>\n",
       "      <td>0</td>\n",
       "      <td>0</td>\n",
       "      <td>0</td>\n",
       "      <td>0</td>\n",
       "      <td>0</td>\n",
       "      <td>0</td>\n",
       "      <td>0</td>\n",
       "      <td>0</td>\n",
       "      <td>0</td>\n",
       "      <td>0</td>\n",
       "    </tr>\n",
       "  </tbody>\n",
       "</table>\n",
       "<p>5 rows × 785 columns</p>\n",
       "</div>"
      ],
      "text/plain": [
       "   label  pixel0  pixel1  pixel2  pixel3  pixel4  pixel5  pixel6  pixel7  \\\n",
       "0      1       0       0       0       0       0       0       0       0   \n",
       "1      0       0       0       0       0       0       0       0       0   \n",
       "2      1       0       0       0       0       0       0       0       0   \n",
       "3      4       0       0       0       0       0       0       0       0   \n",
       "4      0       0       0       0       0       0       0       0       0   \n",
       "\n",
       "   pixel8  ...  pixel774  pixel775  pixel776  pixel777  pixel778  pixel779  \\\n",
       "0       0  ...         0         0         0         0         0         0   \n",
       "1       0  ...         0         0         0         0         0         0   \n",
       "2       0  ...         0         0         0         0         0         0   \n",
       "3       0  ...         0         0         0         0         0         0   \n",
       "4       0  ...         0         0         0         0         0         0   \n",
       "\n",
       "   pixel780  pixel781  pixel782  pixel783  \n",
       "0         0         0         0         0  \n",
       "1         0         0         0         0  \n",
       "2         0         0         0         0  \n",
       "3         0         0         0         0  \n",
       "4         0         0         0         0  \n",
       "\n",
       "[5 rows x 785 columns]"
      ]
     },
     "execution_count": 4,
     "metadata": {},
     "output_type": "execute_result"
    }
   ],
   "source": [
    "# Eine kleine Aussicht der Daten.\n",
    "\n",
    "train_img.head()"
   ]
  },
  {
   "cell_type": "code",
   "execution_count": 5,
   "id": "f542240a",
   "metadata": {
    "execution": {
     "iopub.execute_input": "2022-05-02T19:54:28.850087Z",
     "iopub.status.busy": "2022-05-02T19:54:28.849899Z",
     "iopub.status.idle": "2022-05-02T19:54:28.897047Z",
     "shell.execute_reply": "2022-05-02T19:54:28.895590Z"
    },
    "papermill": {
     "duration": 0.072036,
     "end_time": "2022-05-02T19:54:28.899274",
     "exception": false,
     "start_time": "2022-05-02T19:54:28.827238",
     "status": "completed"
    },
    "tags": []
   },
   "outputs": [
    {
     "name": "stdout",
     "output_type": "stream",
     "text": [
      "<class 'pandas.core.frame.DataFrame'>\n",
      "RangeIndex: 42000 entries, 0 to 41999\n",
      "Columns: 785 entries, label to pixel783\n",
      "dtypes: int64(785)\n",
      "memory usage: 251.5 MB\n"
     ]
    }
   ],
   "source": [
    "train_img.info()"
   ]
  },
  {
   "cell_type": "code",
   "execution_count": 6,
   "id": "68235f56",
   "metadata": {
    "execution": {
     "iopub.execute_input": "2022-05-02T19:54:28.946316Z",
     "iopub.status.busy": "2022-05-02T19:54:28.946134Z",
     "iopub.status.idle": "2022-05-02T19:54:29.221842Z",
     "shell.execute_reply": "2022-05-02T19:54:29.221155Z"
    },
    "papermill": {
     "duration": 0.301094,
     "end_time": "2022-05-02T19:54:29.223658",
     "exception": false,
     "start_time": "2022-05-02T19:54:28.922564",
     "status": "completed"
    },
    "tags": []
   },
   "outputs": [
    {
     "data": {
      "text/plain": [
       "<matplotlib.image.AxesImage at 0x7faeb39d6690>"
      ]
     },
     "execution_count": 6,
     "metadata": {},
     "output_type": "execute_result"
    },
    {
     "data": {
      "image/png": "[encoded data removed]",
      "text/plain": [
       "<Figure size 432x288 with 1 Axes>"
      ]
     },
     "metadata": {
      "needs_background": "light"
     },
     "output_type": "display_data"
    }
   ],
   "source": [
    "# Wie sehen die Bilder aus?\n",
    "\n",
    "plt.imshow(train_img.drop(columns='label').iloc[0,:].values.reshape(28,28))"
   ]
  },
  {
   "cell_type": "code",
   "execution_count": 7,
   "id": "730d17eb",
   "metadata": {
    "execution": {
     "iopub.execute_input": "2022-05-02T19:54:29.273050Z",
     "iopub.status.busy": "2022-05-02T19:54:29.272835Z",
     "iopub.status.idle": "2022-05-02T19:54:29.775035Z",
     "shell.execute_reply": "2022-05-02T19:54:29.774376Z"
    },
    "papermill": {
     "duration": 0.52843,
     "end_time": "2022-05-02T19:54:29.777109",
     "exception": false,
     "start_time": "2022-05-02T19:54:29.248679",
     "status": "completed"
    },
    "tags": []
   },
   "outputs": [
    {
     "data": {
      "text/plain": [
       "False"
      ]
     },
     "execution_count": 7,
     "metadata": {},
     "output_type": "execute_result"
    }
   ],
   "source": [
    "# Gibt es vielfältigen Daten??\n",
    "\n",
    "train_img.duplicated().any()"
   ]
  },
  {
   "cell_type": "code",
   "execution_count": 8,
   "id": "07b8fabe",
   "metadata": {
    "execution": {
     "iopub.execute_input": "2022-05-02T19:54:29.825387Z",
     "iopub.status.busy": "2022-05-02T19:54:29.825160Z",
     "iopub.status.idle": "2022-05-02T19:54:30.749754Z",
     "shell.execute_reply": "2022-05-02T19:54:30.748968Z"
    },
    "papermill": {
     "duration": 0.95103,
     "end_time": "2022-05-02T19:54:30.751863",
     "exception": false,
     "start_time": "2022-05-02T19:54:29.800833",
     "status": "completed"
    },
    "tags": []
   },
   "outputs": [],
   "source": [
    "# Die Verwendung Sklearn, um die Daten zu teilen: Trainingdaten und Validierungsdaten.\n",
    "\n",
    "from sklearn.model_selection import train_test_split\n",
    "\n",
    "train_lbl = train_img['label']\n",
    "train_img = train_img.drop(columns = 'label')\n",
    "\n",
    "\n",
    "train_img, val_img, train_lbl, val_lbl = train_test_split(train_img, train_lbl, test_size=0.20)"
   ]
  },
  {
   "cell_type": "code",
   "execution_count": 9,
   "id": "351da4ae",
   "metadata": {
    "execution": {
     "iopub.execute_input": "2022-05-02T19:54:30.800757Z",
     "iopub.status.busy": "2022-05-02T19:54:30.800213Z",
     "iopub.status.idle": "2022-05-02T19:54:30.806994Z",
     "shell.execute_reply": "2022-05-02T19:54:30.806145Z"
    },
    "papermill": {
     "duration": 0.03322,
     "end_time": "2022-05-02T19:54:30.809095",
     "exception": false,
     "start_time": "2022-05-02T19:54:30.775875",
     "status": "completed"
    },
    "tags": []
   },
   "outputs": [
    {
     "name": "stdout",
     "output_type": "stream",
     "text": [
      "(33600, 784)\n",
      "(8400, 784)\n"
     ]
    }
   ],
   "source": [
    "print(train_img.shape)\n",
    "print(val_img.shape)"
   ]
  },
  {
   "cell_type": "code",
   "execution_count": 10,
   "id": "ca876542",
   "metadata": {
    "execution": {
     "iopub.execute_input": "2022-05-02T19:54:30.857842Z",
     "iopub.status.busy": "2022-05-02T19:54:30.857648Z",
     "iopub.status.idle": "2022-05-02T19:54:33.234246Z",
     "shell.execute_reply": "2022-05-02T19:54:33.232397Z"
    },
    "papermill": {
     "duration": 2.403856,
     "end_time": "2022-05-02T19:54:33.236908",
     "exception": false,
     "start_time": "2022-05-02T19:54:30.833052",
     "status": "completed"
    },
    "tags": []
   },
   "outputs": [
    {
     "name": "stderr",
     "output_type": "stream",
     "text": [
      "2022-05-02 19:54:30.945674: I tensorflow/stream_executor/cuda/cuda_gpu_executor.cc:937] successful NUMA node read from SysFS had negative value (-1), but there must be at least one NUMA node, so returning NUMA node zero\n",
      "2022-05-02 19:54:31.049682: I tensorflow/stream_executor/cuda/cuda_gpu_executor.cc:937] successful NUMA node read from SysFS had negative value (-1), but there must be at least one NUMA node, so returning NUMA node zero\n",
      "2022-05-02 19:54:31.050421: I tensorflow/stream_executor/cuda/cuda_gpu_executor.cc:937] successful NUMA node read from SysFS had negative value (-1), but there must be at least one NUMA node, so returning NUMA node zero\n",
      "2022-05-02 19:54:31.051816: I tensorflow/core/platform/cpu_feature_guard.cc:142] This TensorFlow binary is optimized with oneAPI Deep Neural Network Library (oneDNN) to use the following CPU instructions in performance-critical operations:  AVX2 AVX512F FMA\n",
      "To enable them in other operations, rebuild TensorFlow with the appropriate compiler flags.\n",
      "2022-05-02 19:54:31.052126: I tensorflow/stream_executor/cuda/cuda_gpu_executor.cc:937] successful NUMA node read from SysFS had negative value (-1), but there must be at least one NUMA node, so returning NUMA node zero\n",
      "2022-05-02 19:54:31.053057: I tensorflow/stream_executor/cuda/cuda_gpu_executor.cc:937] successful NUMA node read from SysFS had negative value (-1), but there must be at least one NUMA node, so returning NUMA node zero\n",
      "2022-05-02 19:54:31.053923: I tensorflow/stream_executor/cuda/cuda_gpu_executor.cc:937] successful NUMA node read from SysFS had negative value (-1), but there must be at least one NUMA node, so returning NUMA node zero\n",
      "2022-05-02 19:54:32.833312: I tensorflow/stream_executor/cuda/cuda_gpu_executor.cc:937] successful NUMA node read from SysFS had negative value (-1), but there must be at least one NUMA node, so returning NUMA node zero\n",
      "2022-05-02 19:54:32.834192: I tensorflow/stream_executor/cuda/cuda_gpu_executor.cc:937] successful NUMA node read from SysFS had negative value (-1), but there must be at least one NUMA node, so returning NUMA node zero\n",
      "2022-05-02 19:54:32.834911: I tensorflow/stream_executor/cuda/cuda_gpu_executor.cc:937] successful NUMA node read from SysFS had negative value (-1), but there must be at least one NUMA node, so returning NUMA node zero\n",
      "2022-05-02 19:54:32.836262: I tensorflow/core/common_runtime/gpu/gpu_device.cc:1510] Created device /job:localhost/replica:0/task:0/device:GPU:0 with 15403 MB memory:  -> device: 0, name: Tesla P100-PCIE-16GB, pci bus id: 0000:00:04.0, compute capability: 6.0\n"
     ]
    }
   ],
   "source": [
    "# Hier baue ich das Convnet-NN, und viele Erklärungen kommen davon...\n",
    "\n",
    "model = models.Sequential()\n",
    "model.add(layers.Conv2D(32, (3,3), activation='relu', input_shape=(28,28,1))) # Jedes Bild hat 28x28-Dimensionen und einen Kanal. Deshalb gibt es 3-Dimensionen.\n",
    "                                                                              # Die Nummer 32 (und in späteren Conv2D-Schichten, 64) bestimmt die dritte Dimension: der Kanal.\n",
    "model.add(layers.MaxPooling2D((2,2)))\n",
    "model.add(layers.Conv2D(64, (3,3), activation='relu'))\n",
    "model.add(layers.MaxPooling2D((2,2)))\n",
    "model.add(layers.Conv2D(64, (3,3), activation='relu'))\n",
    "\n",
    "from tensorflow.python.keras.callbacks import TensorBoard\n",
    "from time import time\n",
    "\n",
    "# Nach den Covnet-Schichten kommt eine Schichte voll mit dichte Neuronen...\n",
    "\n",
    "model.add(layers.Flatten())\n",
    "model.add(layers.Dropout(0.5)) # Das Hinzufügen einer Dropoutschicht, womit 50% der Neuronen ausgeschaltet werden.\n",
    "model.add(layers.Dense(64, activation='relu', kernel_regularizer=regularizers.l2(0.01))) # 64 Neuronen mit L2-Regularizierung.\n",
    "model.add(layers.Dropout(0.5))\n",
    "model.add(layers.Dense(10, activation='softmax', kernel_regularizer=regularizers.l2(0.001))) # Die Entscheidung von 10-Klassen, auch mit Regularizierung.\n",
    "\n",
    "model.compile(\n",
    "    optimizer = 'adam',\n",
    "    loss = 'categorical_crossentropy',\n",
    "    metrics = ['accuracy']\n",
    ")"
   ]
  },
  {
   "cell_type": "code",
   "execution_count": 11,
   "id": "869ffc48",
   "metadata": {
    "execution": {
     "iopub.execute_input": "2022-05-02T19:54:33.287571Z",
     "iopub.status.busy": "2022-05-02T19:54:33.287374Z",
     "iopub.status.idle": "2022-05-02T19:54:33.296783Z",
     "shell.execute_reply": "2022-05-02T19:54:33.296017Z"
    },
    "papermill": {
     "duration": 0.037058,
     "end_time": "2022-05-02T19:54:33.299157",
     "exception": false,
     "start_time": "2022-05-02T19:54:33.262099",
     "status": "completed"
    },
    "tags": []
   },
   "outputs": [
    {
     "name": "stdout",
     "output_type": "stream",
     "text": [
      "Model: \"sequential\"\n",
      "_________________________________________________________________\n",
      "Layer (type)                 Output Shape              Param #   \n",
      "=================================================================\n",
      "conv2d (Conv2D)              (None, 26, 26, 32)        320       \n",
      "_________________________________________________________________\n",
      "max_pooling2d (MaxPooling2D) (None, 13, 13, 32)        0         \n",
      "_________________________________________________________________\n",
      "conv2d_1 (Conv2D)            (None, 11, 11, 64)        18496     \n",
      "_________________________________________________________________\n",
      "max_pooling2d_1 (MaxPooling2 (None, 5, 5, 64)          0         \n",
      "_________________________________________________________________\n",
      "conv2d_2 (Conv2D)            (None, 3, 3, 64)          36928     \n",
      "_________________________________________________________________\n",
      "flatten (Flatten)            (None, 576)               0         \n",
      "_________________________________________________________________\n",
      "dropout (Dropout)            (None, 576)               0         \n",
      "_________________________________________________________________\n",
      "dense (Dense)                (None, 64)                36928     \n",
      "_________________________________________________________________\n",
      "dropout_1 (Dropout)          (None, 64)                0         \n",
      "_________________________________________________________________\n",
      "dense_1 (Dense)              (None, 10)                650       \n",
      "=================================================================\n",
      "Total params: 93,322\n",
      "Trainable params: 93,322\n",
      "Non-trainable params: 0\n",
      "_________________________________________________________________\n"
     ]
    }
   ],
   "source": [
    "# Eine Zussamenfassung des Models.\n",
    "\n",
    "model.summary()"
   ]
  },
  {
   "cell_type": "code",
   "execution_count": 12,
   "id": "4bc2a31e",
   "metadata": {
    "execution": {
     "iopub.execute_input": "2022-05-02T19:54:33.349849Z",
     "iopub.status.busy": "2022-05-02T19:54:33.349653Z",
     "iopub.status.idle": "2022-05-02T19:54:33.507389Z",
     "shell.execute_reply": "2022-05-02T19:54:33.506649Z"
    },
    "papermill": {
     "duration": 0.185516,
     "end_time": "2022-05-02T19:54:33.509695",
     "exception": false,
     "start_time": "2022-05-02T19:54:33.324179",
     "status": "completed"
    },
    "tags": []
   },
   "outputs": [],
   "source": [
    "# Die Vorverarbeitung des Training- und Validierungsatzes.\n",
    "\n",
    "train_img = train_img.astype('float32')/255.0\n",
    "val_img = val_img.astype('float32')/255.0\n",
    "\n",
    "train_lbl = to_categorical(train_lbl)\n",
    "val_lbl = to_categorical(val_lbl)"
   ]
  },
  {
   "cell_type": "code",
   "execution_count": 13,
   "id": "ff20091d",
   "metadata": {
    "execution": {
     "iopub.execute_input": "2022-05-02T19:54:33.561276Z",
     "iopub.status.busy": "2022-05-02T19:54:33.561061Z",
     "iopub.status.idle": "2022-05-02T19:54:33.565276Z",
     "shell.execute_reply": "2022-05-02T19:54:33.564498Z"
    },
    "papermill": {
     "duration": 0.032527,
     "end_time": "2022-05-02T19:54:33.567391",
     "exception": false,
     "start_time": "2022-05-02T19:54:33.534864",
     "status": "completed"
    },
    "tags": []
   },
   "outputs": [],
   "source": [
    "train_img = train_img.values.reshape((train_img.shape[0], 28, 28, 1))\n",
    "val_img = val_img.values.reshape((val_img.shape[0], 28, 28, 1))"
   ]
  },
  {
   "cell_type": "code",
   "execution_count": 14,
   "id": "452ac644",
   "metadata": {
    "execution": {
     "iopub.execute_input": "2022-05-02T19:54:33.617737Z",
     "iopub.status.busy": "2022-05-02T19:54:33.617548Z",
     "iopub.status.idle": "2022-05-02T19:54:34.295778Z",
     "shell.execute_reply": "2022-05-02T19:54:34.294900Z"
    },
    "papermill": {
     "duration": 0.705812,
     "end_time": "2022-05-02T19:54:34.297857",
     "exception": false,
     "start_time": "2022-05-02T19:54:33.592045",
     "status": "completed"
    },
    "tags": []
   },
   "outputs": [
    {
     "name": "stdout",
     "output_type": "stream",
     "text": [
      "__notebook__.ipynb\r\n"
     ]
    }
   ],
   "source": [
    "!dir"
   ]
  },
  {
   "cell_type": "code",
   "execution_count": 15,
   "id": "303a88da",
   "metadata": {
    "execution": {
     "iopub.execute_input": "2022-05-02T19:54:34.349800Z",
     "iopub.status.busy": "2022-05-02T19:54:34.349579Z",
     "iopub.status.idle": "2022-05-02T19:58:57.529352Z",
     "shell.execute_reply": "2022-05-02T19:58:57.528585Z"
    },
    "papermill": {
     "duration": 263.20833,
     "end_time": "2022-05-02T19:58:57.531538",
     "exception": false,
     "start_time": "2022-05-02T19:54:34.323208",
     "status": "completed"
    },
    "tags": []
   },
   "outputs": [
    {
     "name": "stderr",
     "output_type": "stream",
     "text": [
      "2022-05-02 19:54:34.360465: I tensorflow/core/profiler/lib/profiler_session.cc:131] Profiler session initializing.\n",
      "2022-05-02 19:54:34.360517: I tensorflow/core/profiler/lib/profiler_session.cc:146] Profiler session started.\n",
      "2022-05-02 19:54:34.364012: I tensorflow/core/profiler/internal/gpu/cupti_tracer.cc:1614] Profiler found 1 GPUs\n",
      "2022-05-02 19:54:34.571424: I tensorflow/core/profiler/lib/profiler_session.cc:164] Profiler session tear down.\n",
      "2022-05-02 19:54:34.571608: I tensorflow/core/profiler/internal/gpu/cupti_tracer.cc:1748] CUPTI activity buffer flushed\n",
      "2022-05-02 19:54:35.040853: I tensorflow/compiler/mlir/mlir_graph_optimization_pass.cc:185] None of the MLIR Optimization Passes are enabled (registered 2)\n"
     ]
    },
    {
     "name": "stdout",
     "output_type": "stream",
     "text": [
      "Epoch 1/50\n"
     ]
    },
    {
     "name": "stderr",
     "output_type": "stream",
     "text": [
      "2022-05-02 19:54:36.395923: I tensorflow/stream_executor/cuda/cuda_dnn.cc:369] Loaded cuDNN version 8005\n"
     ]
    },
    {
     "name": "stdout",
     "output_type": "stream",
     "text": [
      "   1/1050 [..............................] - ETA: 1:58:04 - loss: 3.5022 - accuracy: 0.0938"
     ]
    },
    {
     "name": "stderr",
     "output_type": "stream",
     "text": [
      "2022-05-02 19:54:41.866368: I tensorflow/core/profiler/lib/profiler_session.cc:131] Profiler session initializing.\n",
      "2022-05-02 19:54:41.866411: I tensorflow/core/profiler/lib/profiler_session.cc:146] Profiler session started.\n"
     ]
    },
    {
     "name": "stdout",
     "output_type": "stream",
     "text": [
      "   2/1050 [..............................] - ETA: 5:19 - loss: 3.4666 - accuracy: 0.1406   "
     ]
    },
    {
     "name": "stderr",
     "output_type": "stream",
     "text": [
      "2022-05-02 19:54:42.159488: I tensorflow/core/profiler/lib/profiler_session.cc:66] Profiler session collecting data.\n",
      "2022-05-02 19:54:42.160263: I tensorflow/core/profiler/internal/gpu/cupti_tracer.cc:1748] CUPTI activity buffer flushed\n",
      "2022-05-02 19:54:42.304413: I tensorflow/core/profiler/internal/gpu/cupti_collector.cc:673]  GpuTracer has collected 141 callback api events and 138 activity events. \n",
      "2022-05-02 19:54:42.315795: I tensorflow/core/profiler/lib/profiler_session.cc:164] Profiler session tear down.\n",
      "2022-05-02 19:54:42.333149: I tensorflow/core/profiler/rpc/client/save_profile.cc:136] Creating directory: logs/1651521274.3517299/train/plugins/profile/2022_05_02_19_54_42\n",
      "\n",
      "2022-05-02 19:54:42.340230: I tensorflow/core/profiler/rpc/client/save_profile.cc:142] Dumped gzipped tool data for trace.json.gz to logs/1651521274.3517299/train/plugins/profile/2022_05_02_19_54_42/c33acbd13784.trace.json.gz\n"
     ]
    },
    {
     "name": "stdout",
     "output_type": "stream",
     "text": [
      "  37/1050 [>.............................] - ETA: 19s - loss: 2.9915 - accuracy: 0.2171"
     ]
    },
    {
     "name": "stderr",
     "output_type": "stream",
     "text": [
      "2022-05-02 19:54:42.367686: I tensorflow/core/profiler/rpc/client/save_profile.cc:136] Creating directory: logs/1651521274.3517299/train/plugins/profile/2022_05_02_19_54_42\n",
      "\n",
      "2022-05-02 19:54:42.369927: I tensorflow/core/profiler/rpc/client/save_profile.cc:142] Dumped gzipped tool data for memory_profile.json.gz to logs/1651521274.3517299/train/plugins/profile/2022_05_02_19_54_42/c33acbd13784.memory_profile.json.gz\n",
      "2022-05-02 19:54:42.370980: I tensorflow/core/profiler/rpc/client/capture_profile.cc:251] Creating directory: logs/1651521274.3517299/train/plugins/profile/2022_05_02_19_54_42\n",
      "Dumped tool data for xplane.pb to logs/1651521274.3517299/train/plugins/profile/2022_05_02_19_54_42/c33acbd13784.xplane.pb\n",
      "Dumped tool data for overview_page.pb to logs/1651521274.3517299/train/plugins/profile/2022_05_02_19_54_42/c33acbd13784.overview_page.pb\n",
      "Dumped tool data for input_pipeline.pb to logs/1651521274.3517299/train/plugins/profile/2022_05_02_19_54_42/c33acbd13784.input_pipeline.pb\n",
      "Dumped tool data for tensorflow_stats.pb to logs/1651521274.3517299/train/plugins/profile/2022_05_02_19_54_42/c33acbd13784.tensorflow_stats.pb\n",
      "Dumped tool data for kernel_stats.pb to logs/1651521274.3517299/train/plugins/profile/2022_05_02_19_54_42/c33acbd13784.kernel_stats.pb\n",
      "\n"
     ]
    },
    {
     "name": "stdout",
     "output_type": "stream",
     "text": [
      "1050/1050 [==============================] - 12s 5ms/step - loss: 0.6999 - accuracy: 0.8522 - val_loss: 0.2468 - val_accuracy: 0.9707\n",
      "Epoch 2/50\n",
      "1050/1050 [==============================] - 4s 4ms/step - loss: 0.3155 - accuracy: 0.9472 - val_loss: 0.2023 - val_accuracy: 0.9773\n",
      "Epoch 3/50\n",
      "1050/1050 [==============================] - 4s 4ms/step - loss: 0.2692 - accuracy: 0.9571 - val_loss: 0.1839 - val_accuracy: 0.9824\n",
      "Epoch 4/50\n",
      "1050/1050 [==============================] - 4s 4ms/step - loss: 0.2430 - accuracy: 0.9643 - val_loss: 0.1717 - val_accuracy: 0.9832\n",
      "Epoch 5/50\n",
      "1050/1050 [==============================] - 4s 4ms/step - loss: 0.2306 - accuracy: 0.9660 - val_loss: 0.1679 - val_accuracy: 0.9812\n",
      "Epoch 6/50\n",
      "1050/1050 [==============================] - 4s 4ms/step - loss: 0.2134 - accuracy: 0.9692 - val_loss: 0.1464 - val_accuracy: 0.9870\n",
      "Epoch 7/50\n",
      "1050/1050 [==============================] - 4s 4ms/step - loss: 0.2019 - accuracy: 0.9714 - val_loss: 0.1673 - val_accuracy: 0.9814\n",
      "Epoch 8/50\n",
      "1050/1050 [==============================] - 4s 4ms/step - loss: 0.1921 - accuracy: 0.9734 - val_loss: 0.1368 - val_accuracy: 0.9880\n",
      "Epoch 9/50\n",
      "1050/1050 [==============================] - 5s 4ms/step - loss: 0.1829 - accuracy: 0.9751 - val_loss: 0.1314 - val_accuracy: 0.9887\n",
      "Epoch 10/50\n",
      "1050/1050 [==============================] - 4s 4ms/step - loss: 0.1769 - accuracy: 0.9764 - val_loss: 0.1366 - val_accuracy: 0.9886\n",
      "Epoch 11/50\n",
      "1050/1050 [==============================] - 4s 4ms/step - loss: 0.1759 - accuracy: 0.9769 - val_loss: 0.1326 - val_accuracy: 0.9887\n",
      "Epoch 12/50\n",
      "1050/1050 [==============================] - 4s 4ms/step - loss: 0.1666 - accuracy: 0.9789 - val_loss: 0.1400 - val_accuracy: 0.9893\n",
      "Epoch 13/50\n",
      "1050/1050 [==============================] - 4s 4ms/step - loss: 0.1663 - accuracy: 0.9787 - val_loss: 0.1323 - val_accuracy: 0.9885\n",
      "Epoch 14/50\n",
      "1050/1050 [==============================] - 4s 4ms/step - loss: 0.1569 - accuracy: 0.9811 - val_loss: 0.1281 - val_accuracy: 0.9898\n",
      "Epoch 15/50\n",
      "1050/1050 [==============================] - 4s 4ms/step - loss: 0.1582 - accuracy: 0.9800 - val_loss: 0.1243 - val_accuracy: 0.9890\n",
      "Epoch 16/50\n",
      "1050/1050 [==============================] - 4s 4ms/step - loss: 0.1595 - accuracy: 0.9802 - val_loss: 0.1289 - val_accuracy: 0.9887\n",
      "Epoch 17/50\n",
      "1050/1050 [==============================] - 5s 4ms/step - loss: 0.1505 - accuracy: 0.9817 - val_loss: 0.1277 - val_accuracy: 0.9886\n",
      "Epoch 18/50\n",
      "1050/1050 [==============================] - 4s 4ms/step - loss: 0.1512 - accuracy: 0.9815 - val_loss: 0.1270 - val_accuracy: 0.9887\n",
      "Epoch 19/50\n",
      "1050/1050 [==============================] - 5s 4ms/step - loss: 0.1445 - accuracy: 0.9824 - val_loss: 0.1305 - val_accuracy: 0.9892\n",
      "Epoch 20/50\n",
      "1050/1050 [==============================] - 4s 4ms/step - loss: 0.1445 - accuracy: 0.9831 - val_loss: 0.1262 - val_accuracy: 0.9889\n",
      "Epoch 21/50\n",
      "1050/1050 [==============================] - 4s 4ms/step - loss: 0.1350 - accuracy: 0.9848 - val_loss: 0.1131 - val_accuracy: 0.9892\n",
      "Epoch 22/50\n",
      "1050/1050 [==============================] - 4s 4ms/step - loss: 0.1368 - accuracy: 0.9838 - val_loss: 0.1116 - val_accuracy: 0.9905\n",
      "Epoch 23/50\n",
      "1050/1050 [==============================] - 4s 4ms/step - loss: 0.1383 - accuracy: 0.9847 - val_loss: 0.1114 - val_accuracy: 0.9919\n",
      "Epoch 24/50\n",
      "1050/1050 [==============================] - 4s 4ms/step - loss: 0.1295 - accuracy: 0.9856 - val_loss: 0.1100 - val_accuracy: 0.9917\n",
      "Epoch 25/50\n",
      "1050/1050 [==============================] - 5s 4ms/step - loss: 0.1265 - accuracy: 0.9858 - val_loss: 0.1099 - val_accuracy: 0.9930\n",
      "Epoch 26/50\n",
      "1050/1050 [==============================] - 4s 4ms/step - loss: 0.1263 - accuracy: 0.9862 - val_loss: 0.1092 - val_accuracy: 0.9918\n",
      "Epoch 27/50\n",
      "1050/1050 [==============================] - 4s 4ms/step - loss: 0.1263 - accuracy: 0.9860 - val_loss: 0.1121 - val_accuracy: 0.9911\n",
      "Epoch 28/50\n",
      "1050/1050 [==============================] - 4s 4ms/step - loss: 0.1194 - accuracy: 0.9875 - val_loss: 0.1027 - val_accuracy: 0.9917\n",
      "Epoch 29/50\n",
      "1050/1050 [==============================] - 4s 4ms/step - loss: 0.1219 - accuracy: 0.9874 - val_loss: 0.1137 - val_accuracy: 0.9908\n",
      "Epoch 30/50\n",
      "1050/1050 [==============================] - 4s 4ms/step - loss: 0.1258 - accuracy: 0.9860 - val_loss: 0.1060 - val_accuracy: 0.9908\n",
      "Epoch 31/50\n",
      "1050/1050 [==============================] - 4s 4ms/step - loss: 0.1176 - accuracy: 0.9879 - val_loss: 0.1142 - val_accuracy: 0.9882\n",
      "Epoch 32/50\n",
      "1050/1050 [==============================] - 4s 4ms/step - loss: 0.1248 - accuracy: 0.9873 - val_loss: 0.1174 - val_accuracy: 0.9918\n",
      "Epoch 33/50\n",
      "1050/1050 [==============================] - 5s 5ms/step - loss: 0.1206 - accuracy: 0.9884 - val_loss: 0.1051 - val_accuracy: 0.9924\n",
      "Epoch 34/50\n",
      "1050/1050 [==============================] - 4s 4ms/step - loss: 0.1158 - accuracy: 0.9887 - val_loss: 0.1123 - val_accuracy: 0.9913\n",
      "Epoch 35/50\n",
      "1050/1050 [==============================] - 4s 4ms/step - loss: 0.1198 - accuracy: 0.9871 - val_loss: 0.1145 - val_accuracy: 0.9893\n",
      "Epoch 36/50\n",
      "1050/1050 [==============================] - 4s 4ms/step - loss: 0.1113 - accuracy: 0.9894 - val_loss: 0.0987 - val_accuracy: 0.9924\n",
      "Epoch 37/50\n",
      "1050/1050 [==============================] - 4s 4ms/step - loss: 0.1140 - accuracy: 0.9890 - val_loss: 0.1107 - val_accuracy: 0.9929\n",
      "Epoch 38/50\n",
      "1050/1050 [==============================] - 4s 4ms/step - loss: 0.1182 - accuracy: 0.9887 - val_loss: 0.1029 - val_accuracy: 0.9918\n",
      "Epoch 39/50\n",
      "1050/1050 [==============================] - 4s 4ms/step - loss: 0.1079 - accuracy: 0.9895 - val_loss: 0.1075 - val_accuracy: 0.9895\n",
      "Epoch 40/50\n",
      "1050/1050 [==============================] - 4s 4ms/step - loss: 0.1104 - accuracy: 0.9894 - val_loss: 0.1038 - val_accuracy: 0.9915\n",
      "Epoch 41/50\n",
      "1050/1050 [==============================] - 5s 4ms/step - loss: 0.1158 - accuracy: 0.9884 - val_loss: 0.1128 - val_accuracy: 0.9913\n",
      "Epoch 42/50\n",
      "1050/1050 [==============================] - 4s 4ms/step - loss: 0.1047 - accuracy: 0.9904 - val_loss: 0.1028 - val_accuracy: 0.9915\n",
      "Epoch 43/50\n",
      "1050/1050 [==============================] - 4s 4ms/step - loss: 0.1093 - accuracy: 0.9896 - val_loss: 0.1106 - val_accuracy: 0.9911\n",
      "Epoch 44/50\n",
      "1050/1050 [==============================] - 4s 4ms/step - loss: 0.1066 - accuracy: 0.9906 - val_loss: 0.1064 - val_accuracy: 0.9908\n",
      "Epoch 45/50\n",
      "1050/1050 [==============================] - 4s 4ms/step - loss: 0.1047 - accuracy: 0.9904 - val_loss: 0.0993 - val_accuracy: 0.9930\n",
      "Epoch 46/50\n",
      "1050/1050 [==============================] - 4s 4ms/step - loss: 0.1031 - accuracy: 0.9904 - val_loss: 0.1132 - val_accuracy: 0.9906\n",
      "Epoch 47/50\n",
      "1050/1050 [==============================] - 4s 4ms/step - loss: 0.1061 - accuracy: 0.9901 - val_loss: 0.1009 - val_accuracy: 0.9930\n",
      "Epoch 48/50\n",
      "1050/1050 [==============================] - 4s 4ms/step - loss: 0.1059 - accuracy: 0.9902 - val_loss: 0.1085 - val_accuracy: 0.9914\n",
      "Epoch 49/50\n",
      "1050/1050 [==============================] - 5s 4ms/step - loss: 0.1002 - accuracy: 0.9908 - val_loss: 0.1010 - val_accuracy: 0.9915\n",
      "Epoch 50/50\n",
      "1050/1050 [==============================] - 4s 4ms/step - loss: 0.1077 - accuracy: 0.9900 - val_loss: 0.1183 - val_accuracy: 0.9915\n"
     ]
    }
   ],
   "source": [
    "# Die Passform des Models zu den Daten.\n",
    "\n",
    "history = model.fit(\n",
    "    train_img,\n",
    "    train_lbl,\n",
    "    epochs=50,\n",
    "    batch_size=32,\n",
    "    callbacks=[TensorBoard(log_dir = 'logs/{}'.format(time()))],\n",
    "    validation_data=(val_img,val_lbl)\n",
    ")"
   ]
  },
  {
   "cell_type": "code",
   "execution_count": 16,
   "id": "0873b9e6",
   "metadata": {
    "execution": {
     "iopub.execute_input": "2022-05-02T19:58:59.786716Z",
     "iopub.status.busy": "2022-05-02T19:58:59.786462Z",
     "iopub.status.idle": "2022-05-02T19:58:59.791998Z",
     "shell.execute_reply": "2022-05-02T19:58:59.791198Z"
    },
    "papermill": {
     "duration": 1.104635,
     "end_time": "2022-05-02T19:58:59.794493",
     "exception": false,
     "start_time": "2022-05-02T19:58:58.689858",
     "status": "completed"
    },
    "tags": []
   },
   "outputs": [
    {
     "data": {
      "text/plain": [
       "dict_keys(['loss', 'accuracy', 'val_loss', 'val_accuracy'])"
      ]
     },
     "execution_count": 16,
     "metadata": {},
     "output_type": "execute_result"
    }
   ],
   "source": [
    "# Welche sind die Schlüssel des Models?\n",
    "\n",
    "history.history.keys()"
   ]
  },
  {
   "cell_type": "code",
   "execution_count": 17,
   "id": "7a662bbb",
   "metadata": {
    "execution": {
     "iopub.execute_input": "2022-05-02T19:59:02.049695Z",
     "iopub.status.busy": "2022-05-02T19:59:02.049439Z",
     "iopub.status.idle": "2022-05-02T19:59:02.055560Z",
     "shell.execute_reply": "2022-05-02T19:59:02.054818Z"
    },
    "papermill": {
     "duration": 1.164375,
     "end_time": "2022-05-02T19:59:02.057428",
     "exception": false,
     "start_time": "2022-05-02T19:59:00.893053",
     "status": "completed"
    },
    "tags": []
   },
   "outputs": [],
   "source": [
    "# Eine Funktion womit ich die Genauigkeit und den Verlust gerechnet und gemalt werden.\n",
    "\n",
    "def acc_loss(var='accuracy'):\n",
    "    mval = history.history[var]\n",
    "    mval_var = history.history[f'val_{var}']\n",
    "    epochs = range(1, len(mval)+1)\n",
    "\n",
    "    plt.clf()\n",
    "    plt.plot(epochs, mval, 'bo', label=f'mTraining {var}')\n",
    "    plt.plot(epochs, mval_var, 'b', label=f'mValidation {var}')\n",
    "    plt.title(f'Multiclass Training and Validation {var}')\n",
    "    plt.xlabel('Epochs')\n",
    "    plt.ylabel(f'{var}')\n",
    "    plt.legend()\n",
    "\n",
    "    plt.show()"
   ]
  },
  {
   "cell_type": "code",
   "execution_count": 18,
   "id": "6591e9d8",
   "metadata": {
    "execution": {
     "iopub.execute_input": "2022-05-02T19:59:04.304557Z",
     "iopub.status.busy": "2022-05-02T19:59:04.304257Z",
     "iopub.status.idle": "2022-05-02T19:59:04.907799Z",
     "shell.execute_reply": "2022-05-02T19:59:04.907091Z"
    },
    "papermill": {
     "duration": 1.732007,
     "end_time": "2022-05-02T19:59:04.909964",
     "exception": false,
     "start_time": "2022-05-02T19:59:03.177957",
     "status": "completed"
    },
    "tags": []
   },
   "outputs": [
    {
     "data": {
      "image/png": "[encoded data removed]",
      "text/plain": [
       "<Figure size 432x288 with 1 Axes>"
      ]
     },
     "metadata": {
      "needs_background": "light"
     },
     "output_type": "display_data"
    },
    {
     "data": {
      "image/png": "[encoded data removed]",
      "text/plain": [
       "<Figure size 432x288 with 1 Axes>"
      ]
     },
     "metadata": {
      "needs_background": "light"
     },
     "output_type": "display_data"
    },
    {
     "data": {
      "text/plain": [
       "(None, None)"
      ]
     },
     "execution_count": 18,
     "metadata": {},
     "output_type": "execute_result"
    }
   ],
   "source": [
    "acc_loss(), acc_loss('loss')"
   ]
  },
  {
   "cell_type": "code",
   "execution_count": 19,
   "id": "49fe441b",
   "metadata": {
    "execution": {
     "iopub.execute_input": "2022-05-02T19:59:07.898122Z",
     "iopub.status.busy": "2022-05-02T19:59:07.897564Z",
     "iopub.status.idle": "2022-05-02T19:59:09.526092Z",
     "shell.execute_reply": "2022-05-02T19:59:09.525311Z"
    },
    "papermill": {
     "duration": 3.225113,
     "end_time": "2022-05-02T19:59:09.528258",
     "exception": false,
     "start_time": "2022-05-02T19:59:06.303145",
     "status": "completed"
    },
    "tags": []
   },
   "outputs": [],
   "source": [
    "# Die Vorverarbeitung der Prüfungsdaten.\n",
    "\n",
    "test_img_reshape = test_img.values.reshape((test_img.shape[0], 28, 28, 1)) / 255.0\n",
    "\n",
    "pred = model.predict(test_img_reshape)"
   ]
  },
  {
   "cell_type": "code",
   "execution_count": 20,
   "id": "3dd14e22",
   "metadata": {
    "execution": {
     "iopub.execute_input": "2022-05-02T19:59:11.748718Z",
     "iopub.status.busy": "2022-05-02T19:59:11.748464Z",
     "iopub.status.idle": "2022-05-02T19:59:11.895641Z",
     "shell.execute_reply": "2022-05-02T19:59:11.894775Z"
    },
    "papermill": {
     "duration": 1.244862,
     "end_time": "2022-05-02T19:59:11.897552",
     "exception": false,
     "start_time": "2022-05-02T19:59:10.652690",
     "status": "completed"
    },
    "tags": []
   },
   "outputs": [
    {
     "data": {
      "text/plain": [
       "[2, 0, 9, 9, 3, 7, 0, 3, 0, 3]"
      ]
     },
     "execution_count": 20,
     "metadata": {},
     "output_type": "execute_result"
    }
   ],
   "source": [
    "# Wie ich die Ergibnisse herausfinde und danach in einer Liste sparre.\n",
    "\n",
    "pred_list = []\n",
    "for cell in pred:\n",
    "    pred_list.append(list(cell).index(cell.max()))\n",
    "    \n",
    "pred_list[:10]"
   ]
  },
  {
   "cell_type": "code",
   "execution_count": 21,
   "id": "773a4687",
   "metadata": {
    "execution": {
     "iopub.execute_input": "2022-05-02T19:59:14.179357Z",
     "iopub.status.busy": "2022-05-02T19:59:14.179065Z",
     "iopub.status.idle": "2022-05-02T19:59:14.255164Z",
     "shell.execute_reply": "2022-05-02T19:59:14.254349Z"
    },
    "papermill": {
     "duration": 1.223879,
     "end_time": "2022-05-02T19:59:14.257195",
     "exception": false,
     "start_time": "2022-05-02T19:59:13.033316",
     "status": "completed"
    },
    "tags": []
   },
   "outputs": [
    {
     "data": {
      "text/html": [
       "<div>\n",
       "<style scoped>\n",
       "    .dataframe tbody tr th:only-of-type {\n",
       "        vertical-align: middle;\n",
       "    }\n",
       "\n",
       "    .dataframe tbody tr th {\n",
       "        vertical-align: top;\n",
       "    }\n",
       "\n",
       "    .dataframe thead th {\n",
       "        text-align: right;\n",
       "    }\n",
       "</style>\n",
       "<table border=\"1\" class=\"dataframe\">\n",
       "  <thead>\n",
       "    <tr style=\"text-align: right;\">\n",
       "      <th></th>\n",
       "      <th>ImageId</th>\n",
       "      <th>Label</th>\n",
       "    </tr>\n",
       "  </thead>\n",
       "  <tbody>\n",
       "    <tr>\n",
       "      <th>27998</th>\n",
       "      <td>27999</td>\n",
       "      <td>9</td>\n",
       "    </tr>\n",
       "  </tbody>\n",
       "</table>\n",
       "</div>"
      ],
      "text/plain": [
       "      ImageId Label\n",
       "27998   27999     9"
      ]
     },
     "execution_count": 21,
     "metadata": {},
     "output_type": "execute_result"
    }
   ],
   "source": [
    "pred_df = pd.DataFrame({'ImageId':test_img.index+1, 'Label':pred_list})\n",
    "pred_df = pred_df.astype(str)\n",
    "pred_df[pred_df['ImageId']=='27999']"
   ]
  },
  {
   "cell_type": "code",
   "execution_count": 22,
   "id": "0f9314b9",
   "metadata": {
    "execution": {
     "iopub.execute_input": "2022-05-02T19:59:16.482548Z",
     "iopub.status.busy": "2022-05-02T19:59:16.482255Z",
     "iopub.status.idle": "2022-05-02T19:59:16.501831Z",
     "shell.execute_reply": "2022-05-02T19:59:16.501009Z"
    },
    "papermill": {
     "duration": 1.119053,
     "end_time": "2022-05-02T19:59:16.504010",
     "exception": false,
     "start_time": "2022-05-02T19:59:15.384957",
     "status": "completed"
    },
    "tags": []
   },
   "outputs": [
    {
     "data": {
      "text/html": [
       "<div>\n",
       "<style scoped>\n",
       "    .dataframe tbody tr th:only-of-type {\n",
       "        vertical-align: middle;\n",
       "    }\n",
       "\n",
       "    .dataframe tbody tr th {\n",
       "        vertical-align: top;\n",
       "    }\n",
       "\n",
       "    .dataframe thead th {\n",
       "        text-align: right;\n",
       "    }\n",
       "</style>\n",
       "<table border=\"1\" class=\"dataframe\">\n",
       "  <thead>\n",
       "    <tr style=\"text-align: right;\">\n",
       "      <th></th>\n",
       "      <th>pixel0</th>\n",
       "      <th>pixel1</th>\n",
       "      <th>pixel2</th>\n",
       "      <th>pixel3</th>\n",
       "      <th>pixel4</th>\n",
       "      <th>pixel5</th>\n",
       "      <th>pixel6</th>\n",
       "      <th>pixel7</th>\n",
       "      <th>pixel8</th>\n",
       "      <th>pixel9</th>\n",
       "      <th>...</th>\n",
       "      <th>pixel774</th>\n",
       "      <th>pixel775</th>\n",
       "      <th>pixel776</th>\n",
       "      <th>pixel777</th>\n",
       "      <th>pixel778</th>\n",
       "      <th>pixel779</th>\n",
       "      <th>pixel780</th>\n",
       "      <th>pixel781</th>\n",
       "      <th>pixel782</th>\n",
       "      <th>pixel783</th>\n",
       "    </tr>\n",
       "  </thead>\n",
       "  <tbody>\n",
       "    <tr>\n",
       "      <th>0</th>\n",
       "      <td>0</td>\n",
       "      <td>0</td>\n",
       "      <td>0</td>\n",
       "      <td>0</td>\n",
       "      <td>0</td>\n",
       "      <td>0</td>\n",
       "      <td>0</td>\n",
       "      <td>0</td>\n",
       "      <td>0</td>\n",
       "      <td>0</td>\n",
       "      <td>...</td>\n",
       "      <td>0</td>\n",
       "      <td>0</td>\n",
       "      <td>0</td>\n",
       "      <td>0</td>\n",
       "      <td>0</td>\n",
       "      <td>0</td>\n",
       "      <td>0</td>\n",
       "      <td>0</td>\n",
       "      <td>0</td>\n",
       "      <td>0</td>\n",
       "    </tr>\n",
       "    <tr>\n",
       "      <th>1</th>\n",
       "      <td>0</td>\n",
       "      <td>0</td>\n",
       "      <td>0</td>\n",
       "      <td>0</td>\n",
       "      <td>0</td>\n",
       "      <td>0</td>\n",
       "      <td>0</td>\n",
       "      <td>0</td>\n",
       "      <td>0</td>\n",
       "      <td>0</td>\n",
       "      <td>...</td>\n",
       "      <td>0</td>\n",
       "      <td>0</td>\n",
       "      <td>0</td>\n",
       "      <td>0</td>\n",
       "      <td>0</td>\n",
       "      <td>0</td>\n",
       "      <td>0</td>\n",
       "      <td>0</td>\n",
       "      <td>0</td>\n",
       "      <td>0</td>\n",
       "    </tr>\n",
       "    <tr>\n",
       "      <th>2</th>\n",
       "      <td>0</td>\n",
       "      <td>0</td>\n",
       "      <td>0</td>\n",
       "      <td>0</td>\n",
       "      <td>0</td>\n",
       "      <td>0</td>\n",
       "      <td>0</td>\n",
       "      <td>0</td>\n",
       "      <td>0</td>\n",
       "      <td>0</td>\n",
       "      <td>...</td>\n",
       "      <td>0</td>\n",
       "      <td>0</td>\n",
       "      <td>0</td>\n",
       "      <td>0</td>\n",
       "      <td>0</td>\n",
       "      <td>0</td>\n",
       "      <td>0</td>\n",
       "      <td>0</td>\n",
       "      <td>0</td>\n",
       "      <td>0</td>\n",
       "    </tr>\n",
       "    <tr>\n",
       "      <th>3</th>\n",
       "      <td>0</td>\n",
       "      <td>0</td>\n",
       "      <td>0</td>\n",
       "      <td>0</td>\n",
       "      <td>0</td>\n",
       "      <td>0</td>\n",
       "      <td>0</td>\n",
       "      <td>0</td>\n",
       "      <td>0</td>\n",
       "      <td>0</td>\n",
       "      <td>...</td>\n",
       "      <td>0</td>\n",
       "      <td>0</td>\n",
       "      <td>0</td>\n",
       "      <td>0</td>\n",
       "      <td>0</td>\n",
       "      <td>0</td>\n",
       "      <td>0</td>\n",
       "      <td>0</td>\n",
       "      <td>0</td>\n",
       "      <td>0</td>\n",
       "    </tr>\n",
       "    <tr>\n",
       "      <th>4</th>\n",
       "      <td>0</td>\n",
       "      <td>0</td>\n",
       "      <td>0</td>\n",
       "      <td>0</td>\n",
       "      <td>0</td>\n",
       "      <td>0</td>\n",
       "      <td>0</td>\n",
       "      <td>0</td>\n",
       "      <td>0</td>\n",
       "      <td>0</td>\n",
       "      <td>...</td>\n",
       "      <td>0</td>\n",
       "      <td>0</td>\n",
       "      <td>0</td>\n",
       "      <td>0</td>\n",
       "      <td>0</td>\n",
       "      <td>0</td>\n",
       "      <td>0</td>\n",
       "      <td>0</td>\n",
       "      <td>0</td>\n",
       "      <td>0</td>\n",
       "    </tr>\n",
       "    <tr>\n",
       "      <th>...</th>\n",
       "      <td>...</td>\n",
       "      <td>...</td>\n",
       "      <td>...</td>\n",
       "      <td>...</td>\n",
       "      <td>...</td>\n",
       "      <td>...</td>\n",
       "      <td>...</td>\n",
       "      <td>...</td>\n",
       "      <td>...</td>\n",
       "      <td>...</td>\n",
       "      <td>...</td>\n",
       "      <td>...</td>\n",
       "      <td>...</td>\n",
       "      <td>...</td>\n",
       "      <td>...</td>\n",
       "      <td>...</td>\n",
       "      <td>...</td>\n",
       "      <td>...</td>\n",
       "      <td>...</td>\n",
       "      <td>...</td>\n",
       "      <td>...</td>\n",
       "    </tr>\n",
       "    <tr>\n",
       "      <th>27995</th>\n",
       "      <td>0</td>\n",
       "      <td>0</td>\n",
       "      <td>0</td>\n",
       "      <td>0</td>\n",
       "      <td>0</td>\n",
       "      <td>0</td>\n",
       "      <td>0</td>\n",
       "      <td>0</td>\n",
       "      <td>0</td>\n",
       "      <td>0</td>\n",
       "      <td>...</td>\n",
       "      <td>0</td>\n",
       "      <td>0</td>\n",
       "      <td>0</td>\n",
       "      <td>0</td>\n",
       "      <td>0</td>\n",
       "      <td>0</td>\n",
       "      <td>0</td>\n",
       "      <td>0</td>\n",
       "      <td>0</td>\n",
       "      <td>0</td>\n",
       "    </tr>\n",
       "    <tr>\n",
       "      <th>27996</th>\n",
       "      <td>0</td>\n",
       "      <td>0</td>\n",
       "      <td>0</td>\n",
       "      <td>0</td>\n",
       "      <td>0</td>\n",
       "      <td>0</td>\n",
       "      <td>0</td>\n",
       "      <td>0</td>\n",
       "      <td>0</td>\n",
       "      <td>0</td>\n",
       "      <td>...</td>\n",
       "      <td>0</td>\n",
       "      <td>0</td>\n",
       "      <td>0</td>\n",
       "      <td>0</td>\n",
       "      <td>0</td>\n",
       "      <td>0</td>\n",
       "      <td>0</td>\n",
       "      <td>0</td>\n",
       "      <td>0</td>\n",
       "      <td>0</td>\n",
       "    </tr>\n",
       "    <tr>\n",
       "      <th>27997</th>\n",
       "      <td>0</td>\n",
       "      <td>0</td>\n",
       "      <td>0</td>\n",
       "      <td>0</td>\n",
       "      <td>0</td>\n",
       "      <td>0</td>\n",
       "      <td>0</td>\n",
       "      <td>0</td>\n",
       "      <td>0</td>\n",
       "      <td>0</td>\n",
       "      <td>...</td>\n",
       "      <td>0</td>\n",
       "      <td>0</td>\n",
       "      <td>0</td>\n",
       "      <td>0</td>\n",
       "      <td>0</td>\n",
       "      <td>0</td>\n",
       "      <td>0</td>\n",
       "      <td>0</td>\n",
       "      <td>0</td>\n",
       "      <td>0</td>\n",
       "    </tr>\n",
       "    <tr>\n",
       "      <th>27998</th>\n",
       "      <td>0</td>\n",
       "      <td>0</td>\n",
       "      <td>0</td>\n",
       "      <td>0</td>\n",
       "      <td>0</td>\n",
       "      <td>0</td>\n",
       "      <td>0</td>\n",
       "      <td>0</td>\n",
       "      <td>0</td>\n",
       "      <td>0</td>\n",
       "      <td>...</td>\n",
       "      <td>0</td>\n",
       "      <td>0</td>\n",
       "      <td>0</td>\n",
       "      <td>0</td>\n",
       "      <td>0</td>\n",
       "      <td>0</td>\n",
       "      <td>0</td>\n",
       "      <td>0</td>\n",
       "      <td>0</td>\n",
       "      <td>0</td>\n",
       "    </tr>\n",
       "    <tr>\n",
       "      <th>27999</th>\n",
       "      <td>0</td>\n",
       "      <td>0</td>\n",
       "      <td>0</td>\n",
       "      <td>0</td>\n",
       "      <td>0</td>\n",
       "      <td>0</td>\n",
       "      <td>0</td>\n",
       "      <td>0</td>\n",
       "      <td>0</td>\n",
       "      <td>0</td>\n",
       "      <td>...</td>\n",
       "      <td>0</td>\n",
       "      <td>0</td>\n",
       "      <td>0</td>\n",
       "      <td>0</td>\n",
       "      <td>0</td>\n",
       "      <td>0</td>\n",
       "      <td>0</td>\n",
       "      <td>0</td>\n",
       "      <td>0</td>\n",
       "      <td>0</td>\n",
       "    </tr>\n",
       "  </tbody>\n",
       "</table>\n",
       "<p>28000 rows × 784 columns</p>\n",
       "</div>"
      ],
      "text/plain": [
       "       pixel0  pixel1  pixel2  pixel3  pixel4  pixel5  pixel6  pixel7  pixel8  \\\n",
       "0           0       0       0       0       0       0       0       0       0   \n",
       "1           0       0       0       0       0       0       0       0       0   \n",
       "2           0       0       0       0       0       0       0       0       0   \n",
       "3           0       0       0       0       0       0       0       0       0   \n",
       "4           0       0       0       0       0       0       0       0       0   \n",
       "...       ...     ...     ...     ...     ...     ...     ...     ...     ...   \n",
       "27995       0       0       0       0       0       0       0       0       0   \n",
       "27996       0       0       0       0       0       0       0       0       0   \n",
       "27997       0       0       0       0       0       0       0       0       0   \n",
       "27998       0       0       0       0       0       0       0       0       0   \n",
       "27999       0       0       0       0       0       0       0       0       0   \n",
       "\n",
       "       pixel9  ...  pixel774  pixel775  pixel776  pixel777  pixel778  \\\n",
       "0           0  ...         0         0         0         0         0   \n",
       "1           0  ...         0         0         0         0         0   \n",
       "2           0  ...         0         0         0         0         0   \n",
       "3           0  ...         0         0         0         0         0   \n",
       "4           0  ...         0         0         0         0         0   \n",
       "...       ...  ...       ...       ...       ...       ...       ...   \n",
       "27995       0  ...         0         0         0         0         0   \n",
       "27996       0  ...         0         0         0         0         0   \n",
       "27997       0  ...         0         0         0         0         0   \n",
       "27998       0  ...         0         0         0         0         0   \n",
       "27999       0  ...         0         0         0         0         0   \n",
       "\n",
       "       pixel779  pixel780  pixel781  pixel782  pixel783  \n",
       "0             0         0         0         0         0  \n",
       "1             0         0         0         0         0  \n",
       "2             0         0         0         0         0  \n",
       "3             0         0         0         0         0  \n",
       "4             0         0         0         0         0  \n",
       "...         ...       ...       ...       ...       ...  \n",
       "27995         0         0         0         0         0  \n",
       "27996         0         0         0         0         0  \n",
       "27997         0         0         0         0         0  \n",
       "27998         0         0         0         0         0  \n",
       "27999         0         0         0         0         0  \n",
       "\n",
       "[28000 rows x 784 columns]"
      ]
     },
     "execution_count": 22,
     "metadata": {},
     "output_type": "execute_result"
    }
   ],
   "source": [
    "test_img"
   ]
  },
  {
   "cell_type": "code",
   "execution_count": 23,
   "id": "e80cd449",
   "metadata": {
    "execution": {
     "iopub.execute_input": "2022-05-02T19:59:19.002996Z",
     "iopub.status.busy": "2022-05-02T19:59:19.002738Z",
     "iopub.status.idle": "2022-05-02T19:59:23.080223Z",
     "shell.execute_reply": "2022-05-02T19:59:23.079350Z"
    },
    "papermill": {
     "duration": 5.257882,
     "end_time": "2022-05-02T19:59:23.082135",
     "exception": false,
     "start_time": "2022-05-02T19:59:17.824253",
     "status": "completed"
    },
    "tags": []
   },
   "outputs": [
    {
     "data": {
      "text/html": [
       "\n",
       "      <iframe id=\"tensorboard-frame-28b892c7d1887ce\" width=\"100%\" height=\"800\" frameborder=\"0\">\n",
       "      </iframe>\n",
       "      <script>\n",
       "        (function() {\n",
       "          const frame = document.getElementById(\"tensorboard-frame-28b892c7d1887ce\");\n",
       "          const url = new URL(\"/\", window.location);\n",
       "          const port = 6006;\n",
       "          if (port) {\n",
       "            url.port = port;\n",
       "          }\n",
       "          frame.src = url;\n",
       "        })();\n",
       "      </script>\n",
       "    "
      ],
      "text/plain": [
       "<IPython.core.display.HTML object>"
      ]
     },
     "metadata": {},
     "output_type": "display_data"
    }
   ],
   "source": [
    "%load_ext tensorboard\n",
    "%tensorboard --logdir logs"
   ]
  },
  {
   "cell_type": "code",
   "execution_count": 24,
   "id": "5aafdd1f",
   "metadata": {
    "execution": {
     "iopub.execute_input": "2022-05-02T19:59:25.333800Z",
     "iopub.status.busy": "2022-05-02T19:59:25.333530Z",
     "iopub.status.idle": "2022-05-02T19:59:25.380164Z",
     "shell.execute_reply": "2022-05-02T19:59:25.379501Z"
    },
    "papermill": {
     "duration": 1.184294,
     "end_time": "2022-05-02T19:59:25.381934",
     "exception": false,
     "start_time": "2022-05-02T19:59:24.197640",
     "status": "completed"
    },
    "tags": []
   },
   "outputs": [],
   "source": [
    "# Das Endergebnis.\n",
    "\n",
    "pred_df.to_csv('digit_recognizer.csv', index=False)"
   ]
  },
  {
   "cell_type": "code",
   "execution_count": null,
   "id": "76a00b3c",
   "metadata": {
    "papermill": {
     "duration": 1.131011,
     "end_time": "2022-05-02T19:59:27.597686",
     "exception": false,
     "start_time": "2022-05-02T19:59:26.466675",
     "status": "completed"
    },
    "tags": []
   },
   "outputs": [],
   "source": []
  }
 ],
 "metadata": {
  "kernelspec": {
   "display_name": "Python 3",
   "language": "python",
   "name": "python3"
  },
  "language_info": {
   "codemirror_mode": {
    "name": "ipython",
    "version": 3
   },
   "file_extension": ".py",
   "mimetype": "text/x-python",
   "name": "python",
   "nbconvert_exporter": "python",
   "pygments_lexer": "ipython3",
   "version": "3.7.12"
  },
  "papermill": {
   "default_parameters": {},
   "duration": 322.082871,
   "end_time": "2022-05-02T19:59:31.749311",
   "environment_variables": {},
   "exception": null,
   "input_path": "__notebook__.ipynb",
   "output_path": "__notebook__.ipynb",
   "parameters": {},
   "start_time": "2022-05-02T19:54:09.666440",
   "version": "2.3.4"
  }
 },
 "nbformat": 4,
 "nbformat_minor": 5
}
